{
  "nbformat": 4,
  "nbformat_minor": 0,
  "metadata": {
    "colab": {
      "name": "MLProject.ipynb",
      "provenance": [],
      "collapsed_sections": []
    },
    "kernelspec": {
      "name": "python3",
      "display_name": "Python 3"
    },
    "language_info": {
      "name": "python"
    }
  },
  "cells": [
    {
      "cell_type": "code",
      "metadata": {
        "colab": {
          "base_uri": "https://localhost:8080/"
        },
        "id": "czNAFtpG50pH",
        "outputId": "28ab0814-7f76-4990-bbbb-cccb2846c6d0"
      },
      "source": [
        "import pandas as pd\n",
        "import random\n",
        "import math\n",
        "import numpy as np\n",
        "import matplotlib.pyplot as plt\n",
        "from sklearn.model_selection import train_test_split\n",
        "from sklearn.model_selection import KFold \n",
        "from sklearn.linear_model import LogisticRegression\n",
        "from sklearn.metrics import accuracy_score\n",
        "import warnings\n",
        "warnings.filterwarnings(\"ignore\")\n",
        "df=pd.read_csv(\"Dataset.csv\")\n",
        "#print(df)\n",
        "\n",
        "#Normalisation of data frame\n",
        "\n",
        "a=df['Target']\n",
        "#print(a)\n",
        "b=np.array(a)\n",
        "df=df.drop(['Target'],axis=1)\n",
        "df = df/(df.max().max())\n",
        "X=np.array(df)\n",
        "X_train,X_test,y_train,y_test=train_test_split(X,b,test_size=0.5,random_state=0)\n",
        "#X_train,data_remaining = train_test_split(df,train_size = 0.3)\n",
        "#X_test,X_validation = train_test_split(data_remaining,train_size = 0.57)\n",
        "df.insert(14,'Target',a)\n",
        "print(df)\n",
        "data_train,data_remaining = train_test_split(df,train_size = 0.3)\n",
        "data_test,data_validation = train_test_split(data_remaining,train_size = 0.14)\n",
        "\n",
        "\n",
        "#print(data_train)\n",
        "#print(data_validation)\n",
        "\n",
        "c={}\n",
        "for i in range(len(df['Target'])):\n",
        "  c=set(df['Target'])\n",
        "print(c)\n"
      ],
      "execution_count": null,
      "outputs": [
        {
          "output_type": "stream",
          "name": "stdout",
          "text": [
            "           xF        yF        wF  ...       xLM       yLM  Target\n",
            "0    0.656180  0.469663  0.224719  ...  0.811236  0.624719       2\n",
            "1    0.642697  0.449438  0.244944  ...  0.811236  0.631461       2\n",
            "2    0.651685  0.458427  0.235955  ...  0.813483  0.633708       2\n",
            "3    0.644944  0.453933  0.251685  ...  0.813483  0.617978       2\n",
            "4    0.651685  0.433708  0.233708  ...  0.815730  0.602247       2\n",
            "..        ...       ...       ...  ...       ...       ...     ...\n",
            "601  0.624719  0.411236  0.287640  ...  0.800000  0.597753       2\n",
            "602  0.602247  0.417978  0.287640  ...  0.779775  0.604494       1\n",
            "603  0.593258  0.420225  0.285393  ...  0.757303  0.606742       1\n",
            "604  0.593258  0.393258  0.321348  ...  0.788764  0.564045       2\n",
            "605  0.597753  0.382022  0.316854  ...  0.813483  0.555056       2\n",
            "\n",
            "[606 rows x 15 columns]\n",
            "{1, 2, 3}\n"
          ]
        }
      ]
    },
    {
      "cell_type": "code",
      "metadata": {
        "colab": {
          "base_uri": "https://localhost:8080/",
          "height": 419
        },
        "id": "wscPNyCdjZ9I",
        "outputId": "b34e12c7-38f1-4668-9f2d-8d60df0fe582"
      },
      "source": [
        "class1=0\n",
        "class2=0\n",
        "class3=0\n",
        "for i in range(len(b)) : \n",
        "  if(b[i]==1) : \n",
        "    class1+=1\n",
        "  if (b[i] == 2) : \n",
        "    class2+=1\n",
        "  if (b[i] == 3) : \n",
        "    class3+=1\n",
        "print(class1)\n",
        "print(class2)\n",
        "print(class3)\n",
        "\n",
        "classes = list([1,2,3])\n",
        "values = list([class1,class2,class3])\n",
        "print(\"values=\",values)\n",
        "fig = plt.figure(figsize = (10, 5))\n",
        "\n",
        "plt.bar(classes, values, color ='red',width = 0.2)\n",
        "\n",
        "plt.xlabel(\"Classes\")\n",
        "plt.ylabel(\"No of Patterns \")\n",
        "plt.title(\"No Of Patterns Of Each Class\")\n",
        "plt.show()"
      ],
      "execution_count": null,
      "outputs": [
        {
          "output_type": "stream",
          "name": "stdout",
          "text": [
            "27\n",
            "546\n",
            "33\n",
            "values= [27, 546, 33]\n"
          ]
        },
        {
          "output_type": "display_data",
          "data": {
            "image/png": "[encoded data removed]",
            "text/plain": [
              "<Figure size 720x360 with 1 Axes>"
            ]
          },
          "metadata": {
            "needs_background": "light"
          }
        }
      ]
    },
    {
      "cell_type": "code",
      "metadata": {
        "colab": {
          "base_uri": "https://localhost:8080/"
        },
        "id": "o_1yotPfDOZ1",
        "outputId": "7742ab81-1134-456c-9255-70b69c76c0d3"
      },
      "source": [
        "# Separate class\n",
        "Xx=df\n",
        "class_1 = Xx[b == 1]\n",
        "class_2 = Xx[b == 2]# print the shape of the class\n",
        "class_3 = Xx[b == 3]\n",
        "print('class 1:', class_1.shape)\n",
        "print('class 2:', class_2.shape)\n",
        "print('class 3:', class_3.shape)\n",
        "class_1_oversample = class_1.sample(546,replace=True)\n",
        "class_3_oversample=class_3.sample(546,replace=True)\n",
        "\n",
        "Xo = pd.concat([class_2,class_1_oversample,class_3_oversample], axis=0)\n",
        "print(Xo)\n",
        "\n",
        "class1 = 0\n",
        "class2 = 0\n",
        "class3 = 0\n",
        "\n",
        "\n",
        "y = Xo['Target']\n",
        "y = np.array(y)\n",
        "\n",
        "for i in range(len(y)) : \n",
        "  if(y[i]==1) : \n",
        "    class1+=1\n",
        "  if (y[i] == 2) : \n",
        "    class2+=1\n",
        "  if (y[i] == 3) : \n",
        "    class3+=1\n",
        "        \n",
        "\n",
        "print('class 1:', class1)\n",
        "print('class 2:', class2)\n",
        "print('class 3:', class3)\n",
        "#print(\"y=\",y)\n",
        "Xo = Xo.drop(['Target'],axis=1)\n",
        "\n",
        "\n",
        "\n",
        "#print(df) \n",
        "\n",
        "Xo = Xo.astype(float)\n",
        "\n",
        "# doing the normalization \n",
        "Xo = Xo/(Xo.max().max())\n",
        "Xo = np.array(Xo)\n",
        "\n",
        "print(Xo.shape)  \n",
        "class_1 = Xo[y == 1]\n",
        "class_2 = Xo[y == 2]# print the shape of the class\n",
        "class_3 = Xo[y == 3]\n",
        "\n",
        "\n",
        "#from sklearn.model_selection import train_test_split\n",
        "X_tra,X_tes,y_tra,y_tes=train_test_split(Xo,y,test_size=0.5,random_state=0)\n",
        "\n",
        "\n",
        "logreg = LogisticRegression()\n",
        "logistic=logreg.fit(X_tr,y_tr)\n",
        "y_pred = logreg.predict(X_te)\n",
        "\n",
        "#print(\"y_pred = \",y_pred)\n",
        "print(\"AFTER DOING THE OVERSAMPLING :\")\n",
        "#print(len(X_te))\n",
        "#print(len(y_te))\n",
        "print(\"accuracy by using logistic regression=\",logreg.score(X_te,y_te)*100)"
      ],
      "execution_count": null,
      "outputs": [
        {
          "output_type": "stream",
          "name": "stdout",
          "text": [
            "class 1: (27, 15)\n",
            "class 2: (546, 15)\n",
            "class 3: (33, 15)\n",
            "           xF        yF        wF  ...       xLM       yLM  Target\n",
            "0    0.656180  0.469663  0.224719  ...  0.811236  0.624719       2\n",
            "1    0.642697  0.449438  0.244944  ...  0.811236  0.631461       2\n",
            "2    0.651685  0.458427  0.235955  ...  0.813483  0.633708       2\n",
            "3    0.644944  0.453933  0.251685  ...  0.813483  0.617978       2\n",
            "4    0.651685  0.433708  0.233708  ...  0.815730  0.602247       2\n",
            "..        ...       ...       ...  ...       ...       ...     ...\n",
            "171  0.660674  0.429213  0.260674  ...  0.858427  0.597753       3\n",
            "529  0.766292  0.397753  0.240449  ...  0.937079  0.582022       3\n",
            "527  0.782022  0.395506  0.238202  ...  0.946067  0.582022       3\n",
            "175  0.651685  0.424719  0.269663  ...  0.853933  0.597753       3\n",
            "527  0.782022  0.395506  0.238202  ...  0.946067  0.582022       3\n",
            "\n",
            "[1638 rows x 15 columns]\n",
            "class 1: 546\n",
            "class 2: 546\n",
            "class 3: 546\n",
            "(1638, 14)\n",
            "AFTER DOING THE OVERSAMPLING :\n",
            "accuracy by using logistic regression= 81.56288156288156\n"
          ]
        }
      ]
    },
    {
      "cell_type": "code",
      "metadata": {
        "colab": {
          "base_uri": "https://localhost:8080/"
        },
        "id": "Tt3or_PH9P2w",
        "outputId": "5589ee3a-be36-4272-d790-740f7f2b1a0d"
      },
      "source": [
        "\n",
        "# Separate class\n",
        "Xx=df\n",
        "class_1 = Xx[b == 1]\n",
        "class_2 = Xx[b == 2]# print the shape of the class\n",
        "class_3 = Xx[b == 3]\n",
        "print('class 1:', class_1.shape)\n",
        "print('class 2:', class_2.shape)\n",
        "print('class 3:', class_3.shape)\n",
        "class_2_undersample = class_2.sample(27)\n",
        "\n",
        "Xu = pd.concat([class_2_undersample,class_1,class_3], axis=0)\n",
        "print(Xu)\n",
        "\n",
        "class1 = 0\n",
        "class2 = 0\n",
        "class3 = 0\n",
        "\n",
        "\n",
        "y = Xu['Target']\n",
        "y = np.array(y)\n",
        "print(y)\n",
        "\n",
        "for i in range(len(y)) : \n",
        "  if(y[i]==1) : \n",
        "    class1+=1\n",
        "  if (y[i] == 2) : \n",
        "    class2+=1\n",
        "  if (y[i] == 3) : \n",
        "    class3+=1\n",
        "        \n",
        "\n",
        "print('class 1:', class1)\n",
        "print('class 2:', class2)\n",
        "print('class 3:', class3)\n",
        "#print(\"y=\",y)\n",
        "Xu = Xu.drop(['Target'],axis=1)\n",
        "\n",
        "\n",
        "\n",
        "#print(df) \n",
        "\n",
        "Xu = Xu.astype(float)\n",
        "\n",
        "# doing the normalization \n",
        "Xu = Xu/(Xu.max().max())\n",
        "Xu = np.array(Xu)\n",
        "\n",
        "print(Xu.shape)  \n",
        "class_1 = Xu[y == 1]\n",
        "class_2 = Xu[y == 2]# print the shape of the class\n",
        "class_3 = Xu[y == 3]\n",
        "\n",
        "\n",
        "#from sklearn.model_selection import train_test_split\n",
        "X_tr,X_te,y_tr,y_te=train_test_split(Xu,y,test_size=0.5,random_state=0)\n",
        "\n",
        "\n",
        "logreg = LogisticRegression()\n",
        "logistic=logreg.fit(X_tr,y_tr)\n",
        "y_pred = logreg.predict(X_te)\n",
        "\n",
        "#print(\"y_pred = \",y_pred)\n",
        "print(\"AFTER DOING THE UNDERSAMPLING :\")\n",
        "print(len(X_te))\n",
        "print(len(y_te))\n",
        "print(\"accuracy by using logistic regression=\",logreg.score(X_te,y_te)*100)\n"
      ],
      "execution_count": null,
      "outputs": [
        {
          "output_type": "stream",
          "name": "stdout",
          "text": [
            "class 1: (27, 15)\n",
            "class 2: (546, 15)\n",
            "class 3: (33, 15)\n",
            "           xF        yF        wF  ...       xLM       yLM  Target\n",
            "575  0.770787  0.373034  0.224719  ...  0.925843  0.555056       2\n",
            "498  0.707865  0.573034  0.226966  ...  0.856180  0.766292       2\n",
            "89   0.638202  0.458427  0.258427  ...  0.817978  0.620225       2\n",
            "106  0.626966  0.465169  0.265169  ...  0.793258  0.629213       2\n",
            "509  0.685393  0.613483  0.262921  ...  0.876404  0.802247       2\n",
            "..        ...       ...       ...  ...       ...       ...     ...\n",
            "531  0.768539  0.391011  0.242697  ...  0.937079  0.579775       3\n",
            "532  0.768539  0.386517  0.238202  ...  0.941573  0.573034       3\n",
            "533  0.779775  0.386517  0.224719  ...  0.930337  0.573034       3\n",
            "571  0.793258  0.397753  0.226966  ...  0.952809  0.593258       3\n",
            "572  0.815730  0.400000  0.222472  ...  0.964045  0.593258       3\n",
            "\n",
            "[87 rows x 15 columns]\n",
            "[2 2 2 2 2 2 2 2 2 2 2 2 2 2 2 2 2 2 2 2 2 2 2 2 2 2 2 1 1 1 1 1 1 1 1 1 1\n",
            " 1 1 1 1 1 1 1 1 1 1 1 1 1 1 1 1 1 3 3 3 3 3 3 3 3 3 3 3 3 3 3 3 3 3 3 3 3\n",
            " 3 3 3 3 3 3 3 3 3 3 3 3 3]\n",
            "class 1: 27\n",
            "class 2: 27\n",
            "class 3: 33\n",
            "(87, 14)\n",
            "AFTER DOING THE UNDERSAMPLING :\n",
            "44\n",
            "44\n",
            "accuracy by using logistic regression= 70.45454545454545\n"
          ]
        }
      ]
    },
    {
      "cell_type": "code",
      "metadata": {
        "id": "EtbtAus6Kf2y",
        "colab": {
          "base_uri": "https://localhost:8080/"
        },
        "outputId": "9c2ddb94-4643-404b-fadd-ed97263cca48"
      },
      "source": [
        "def hypothesis(X,W):\n",
        "  value=W[0]\n",
        "  for i in range(len(W)-1):\n",
        "    value+=W[i+1]*X[i]\n",
        "  return 1/(1 + np.exp(-value))\n",
        "def UpdateW(X,m,Y,h,w,alpha):\n",
        "  l=0\n",
        "  for n in range(m):\n",
        "      l=l+(Y[n]-h[n])*1*(h[n])*(1-h[n])\n",
        "  w[0]= w[0]+(alpha/m)*l\n",
        "  a=0\n",
        "  for idx in range(len(w)-1):\n",
        "      for p in range(m):\n",
        "         a+=(Y[p]-h[p])*X[p][idx]*(h[p])*(1-h[p])\n",
        "      w[idx+1]=w[idx+1]+(alpha/m)*a\n",
        "      a=0\n",
        "  return w      \n",
        "def mse_value(df,W,alpha,rho,epochs) :\n",
        "   m = len(df)\n",
        "   #print(m)\n",
        "   J_W_prev = 0\n",
        "   X=df.to_numpy()\n",
        "   Y=[]\n",
        "   for i in range(len(df)):\n",
        "    Y.append(X[i][14])\n",
        "   #count=0\n",
        "   #print(W)  \n",
        "   J_W=0\n",
        "   itr=0\n",
        "   for k in range(epochs):\n",
        "     h = []\n",
        "     for i in range(m):\n",
        "        h.append(hypothesis(X[i],W))\n",
        "     #J_W =0\n",
        "     #print(len(h))\n",
        "\n",
        "     for j in range(m):\n",
        "       J_W+=((h[j]-Y[j])*(h[j]-Y[j]))\n",
        "     J_W = J_W/2*m\n",
        "     W=UpdateW(X,m,Y,h,W,alpha)\n",
        "     #print(len(W))  \n",
        "     #print(W)\n",
        "     if(itr>0):\n",
        "      if(abs(J_W-J_W_prev)<rho):\n",
        "       break\n",
        "     itr=itr+1  \n",
        "     J_W_prev = J_W;\n",
        "\n",
        "     \n",
        "   return J_W,W\n",
        "alphaarr = np.array([0.1,0.001,0.02,0.03,0.001])\n",
        "rhoarr = np.array([0.0001,0.0002,0.0003,0.0004,0.0005])\n",
        "epocharr = np.array([10,20,30,50,80])\n",
        "W=[]\n",
        "for i in range(df.shape[1]-1):\n",
        "     W.append(random.uniform(-0.3,0.3))\n",
        "print(W)\n",
        "print(len(W))   \n",
        "freq={}\n",
        "for i in c:\n",
        "  validation_copy=data_validation.copy()\n",
        "  #print(validation_copy['Target'])\n",
        "  for j in validation_copy.index :\n",
        "    if validation_copy['Target'][j] == i:\n",
        "       validation_copy['Target'][j] = 1\n",
        "    else:\n",
        "       validation_copy['Target'][j] = 0\n",
        "  #print(validation_copy)\n",
        "  #print(np.array(validation_copy['Target']))\n",
        "  mse = []\n",
        "  for j in range(len(alphaarr)):\n",
        "    error,z=(mse_value(validation_copy, W, alphaarr[j], rhoarr[j], epocharr[j]))\n",
        "    mse.append(error)\n",
        "  mini = math.inf\n",
        "  tmp = 0\n",
        "  for j in range(0, len(mse)):\n",
        "    if mse[j] < mini:\n",
        "      mini = mse[j]\n",
        "      tmp = j\n",
        "  if (tmp in freq):\n",
        "    freq[tmp] += 1\n",
        "  else:\n",
        "    freq[tmp] = 1     \n",
        "v = list(freq.values())\n",
        "ke = list(freq.keys())\n",
        "bestIndex = ke[v.index(max(v))]\n",
        "print(\"The best hyperparameters are :\")\n",
        "print(alphaarr[bestIndex])\n",
        "print(rhoarr[bestIndex])\n",
        "print(epocharr[bestIndex])\n",
        "print(bestIndex)\n",
        "#plt.plot(epocharr,mse)\n",
        "#plt.xlabel(\"EPOCHS\")\n",
        "#naming the y axis\n",
        "#plt.ylabel(\"MSE\")\n",
        "#plt.show()\n",
        "  "
      ],
      "execution_count": null,
      "outputs": [
        {
          "output_type": "stream",
          "name": "stdout",
          "text": [
            "[-0.0823656919686061, -0.29378182301671774, -0.031836812997820485, -0.07982392067530567, 0.16576313638005474, 0.28015548948729835, -0.17506864497702107, -0.20807322228923064, -0.24899970295433954, 0.23608547289436238, -0.029020342067190064, 0.19296950542346664, 0.17007869282679683, 0.018050439465330415]\n",
            "14\n",
            "The best hyperparameters are :\n",
            "0.1\n",
            "0.0001\n",
            "10\n",
            "0\n"
          ]
        }
      ]
    },
    {
      "cell_type": "code",
      "metadata": {
        "id": "vZbaFAfMjZi9"
      },
      "source": [
        "\n"
      ],
      "execution_count": null,
      "outputs": []
    },
    {
      "cell_type": "code",
      "metadata": {
        "id": "n_wDxnrsMKm4"
      },
      "source": [
        "def train(classes,W,data_train,validation_set,bestindex):\n",
        "  classW = []\n",
        "  print(classes)\n",
        "  alphaarr = np.array([0.1,0.001,0.02,0.03,0.001])\n",
        "  rhoarr = np.array([0.0001,0.0002,0.0003,0.0004,0.0005])\n",
        "  epocharr = np.array([10,20,30,50,80])\n",
        "  for c in classes:\n",
        "    trainCopy = data_train.copy(deep=True)\n",
        "    trainCopyOutput = list(trainCopy['Target'])\n",
        "    \n",
        "    for i in range(len(trainCopyOutput)):\n",
        "      if(trainCopyOutput[i]==c):\n",
        "        trainCopyOutput[i] = 1\n",
        "      else:\n",
        "        trainCopyOutput[i] = 0\n",
        "    \n",
        "    trainCopy['Target'] = trainCopyOutput\n",
        "    error,returnedW = mse_value(trainCopy,W,alphaarr[bestindex],rhoarr[bestindex],epocharr[bestindex])\n",
        "    # print(error)\n",
        "    b=list(returnedW)\n",
        "    #print(b)\n",
        "    classW.append(b)\n",
        "  return classW"
      ],
      "execution_count": null,
      "outputs": []
    },
    {
      "cell_type": "code",
      "metadata": {
        "id": "IjjQ_5yxTXAl"
      },
      "source": [
        "from sklearn import metrics\n",
        "def log_predicted(x,w):\n",
        "  value=w[0]\n",
        "  for i in range(len(w)-1):\n",
        "    value+=w[i+1]*x[i]\n",
        "    #print(\"value\",value)\n",
        "  return 1/(1 + math.exp(-value))\n",
        "\n",
        "  #return 1/(1+ pow(math.e,-(np.dot(x,w))))\n",
        "def findAccuracy(classes,df,everyClassW):\n",
        "\n",
        "  # Confusion Matrix\n",
        "  #confusionMatrix = np.zeros((len(classes),len(classes)),dtype='int')\n",
        "  a = np.array(df.values)\n",
        "  x = a[:,0:len(a[0])-1]\n",
        "  y = a[:,len(a[0])-1]\n",
        "  #print(a.shape)\n",
        "  #print(y)\n",
        "  # for each pattern predict H(Xi) for all classes then take max probability\n",
        "  \n",
        "  \n",
        "\n",
        "\n",
        "  y_predicted=[]\n",
        "  correctlyPredicted=0\n",
        "  for i in range(len(a)):\n",
        "    predictedForIthPattern = []\n",
        "    for c in range(3):\n",
        "      predictedForIthPattern.append(log_predicted(x[i],everyClassW[c]))\n",
        "      \n",
        "    #print(predictedForIthPattern)\n",
        "\n",
        "    # predicting the class.\n",
        "    y_predicted.append(predictedForIthPattern.index(max(predictedForIthPattern))+1)\n",
        "    #print(predictedClass)\n",
        "    \n",
        "    if(y_predicted[i] == y[i]):\n",
        "      correctlyPredicted += 1\n",
        "  print('Correctly Predicted : ',correctlyPredicted)\n",
        "  print('Total Test Samples : ', len(a))\n",
        "  #print('Accuracy : ',(correctlyPredicted*100)/len(a))\n",
        "  print()\n",
        "  \n",
        "  cnf_matrix = metrics.confusion_matrix(y, y_predicted)\n",
        "  print(\"confusion Matrix=\",cnf_matrix)\n",
        "  class_accuracy_one = 0\n",
        "  s = 0\n",
        "  for i in range(len(cnf_matrix)) : \n",
        "    s+=cnf_matrix[i][0]\n",
        "  class_wise_accuracy_one = cnf_matrix[0][0]/s\n",
        "\n",
        "  print(\"class_wise_accuracy_one=\",class_wise_accuracy_one)\n",
        "\n",
        "  class_accuracy_two = 0\n",
        "  s = 0\n",
        "  for i in range(len(cnf_matrix)) : \n",
        "    s+=cnf_matrix[i][1]\n",
        "  class_wise_accuracy_two = cnf_matrix[1][1]/s\n",
        "\n",
        "  print(\"class_wise_accuracy_two=\",class_wise_accuracy_two)\n",
        "\n",
        "\n",
        "  class_accuracy_three = 0\n",
        "  s = 0\n",
        "  for i in range(len(cnf_matrix)) : \n",
        "    s+=cnf_matrix[i][2]\n",
        "  class_wise_accuracy_three = cnf_matrix[2][2]/s\n",
        "\n",
        "  print(\"class_wise_accuracy_three=\",class_wise_accuracy_three)\n",
        "  for i in range(len(cnf_matrix)):\n",
        "      print('precision for ',i+1,' class : ',cnf_matrix[i][i]/(sum(cnf_matrix[i])))\n",
        "  print()\n",
        "  \n",
        "  colWiseSum_ConfusionMatrix = np.sum(cnf_matrix,axis=0)\n",
        "  for i in range(len(colWiseSum_ConfusionMatrix)):\n",
        "    print('recall for ',i+1,' class : ',cnf_matrix[i][i]/(colWiseSum_ConfusionMatrix[i]))\n",
        "  return (correctlyPredicted*100)/len(a)      "
      ],
      "execution_count": null,
      "outputs": []
    },
    {
      "cell_type": "code",
      "metadata": {
        "colab": {
          "base_uri": "https://localhost:8080/"
        },
        "id": "hZf6lMZETvII",
        "outputId": "e69791de-5245-4ff2-d28d-1110f37e6513"
      },
      "source": [
        "everyClassW = train(c,W,data_train.copy(),data_validation.copy(),bestIndex)\n",
        "#print(everyClassW)\n",
        "print(\"****TRAIN - ACCURACY*****\\n\")\n",
        "\n",
        "print(\"Accuracy:\",findAccuracy(c,data_train.copy(),everyClassW))\n",
        "\n",
        "print()\n",
        "\n",
        "print(\"****TEST - ACCURACY*****\\n\")\n",
        "print(\"Accuracy:\",findAccuracy(c,data_test.copy(),everyClassW))\n",
        "\n",
        "print()\n",
        "\n",
        "# '''\n",
        "\n",
        "print()"
      ],
      "execution_count": null,
      "outputs": [
        {
          "output_type": "stream",
          "name": "stdout",
          "text": [
            "{1, 2, 3}\n",
            "****TRAIN - ACCURACY*****\n",
            "\n",
            "Correctly Predicted :  153\n",
            "Total Test Samples :  181\n",
            "\n",
            "confusion Matrix= [[  0  14   0]\n",
            " [  0 153   0]\n",
            " [  0  14   0]]\n",
            "class_wise_accuracy_one= nan\n",
            "class_wise_accuracy_two= 0.8453038674033149\n",
            "class_wise_accuracy_three= nan\n",
            "precision for  1  class :  0.0\n",
            "precision for  2  class :  1.0\n",
            "precision for  3  class :  0.0\n",
            "\n",
            "recall for  1  class :  nan\n",
            "recall for  2  class :  0.8453038674033149\n",
            "recall for  3  class :  nan\n",
            "Accuracy: 84.5303867403315\n",
            "\n",
            "****TEST - ACCURACY*****\n",
            "\n",
            "Correctly Predicted :  53\n",
            "Total Test Samples :  59\n",
            "\n",
            "confusion Matrix= [[ 0  2  0]\n",
            " [ 0 53  0]\n",
            " [ 0  4  0]]\n",
            "class_wise_accuracy_one= nan\n",
            "class_wise_accuracy_two= 0.8983050847457628\n",
            "class_wise_accuracy_three= nan\n",
            "precision for  1  class :  0.0\n",
            "precision for  2  class :  1.0\n",
            "precision for  3  class :  0.0\n",
            "\n",
            "recall for  1  class :  nan\n",
            "recall for  2  class :  0.8983050847457628\n",
            "recall for  3  class :  nan\n",
            "Accuracy: 89.83050847457628\n",
            "\n",
            "\n"
          ]
        }
      ]
    },
    {
      "cell_type": "code",
      "metadata": {
        "id": "IiL6TVjZgBQI"
      },
      "source": [
        ""
      ],
      "execution_count": null,
      "outputs": []
    },
    {
      "cell_type": "code",
      "metadata": {
        "colab": {
          "base_uri": "https://localhost:8080/"
        },
        "id": "UDWQek2kXLI_",
        "outputId": "efdcf42d-ec27-48b2-96c0-13efa051f582"
      },
      "source": [
        "from sklearn.model_selection import KFold\n",
        "\n",
        "kf = KFold(n_splits=5)\n",
        "kf\n",
        "\n",
        "avgAccuracy = 0\n",
        "#shuffling DataFrame\n",
        "df = df.sample(frac = 1)\n",
        "foldNum = 1\n",
        "for train_index, test_index in kf.split(np.array(df.values)):\n",
        "\n",
        "  trainDf = df.iloc[train_index]\n",
        "  testDf = df.iloc[test_index]\n",
        "\n",
        "  bestHyperParameterIndex = 0\n",
        "\n",
        "\n",
        "  print('FOLD : ',foldNum)\n",
        "\n",
        "  everyClassW = train(c,W,trainDf.copy(deep = True),trainDf.copy(deep = True),bestHyperParameterIndex)\n",
        "  accuracy = findAccuracy(c,testDf,everyClassW)\n",
        "  print(\"Accuracy :\",accuracy)\n",
        "  avgAccuracy +=accuracy\n",
        "\n",
        "  print('--------------')\n",
        "\n",
        "\n",
        "  foldNum += 1\n",
        "  df = df.sample(frac = 1)\n",
        "\n",
        "  \n",
        "\n",
        "avgAccuracy /= 5\n",
        "\n",
        "print('AVG Accuracy : ',avgAccuracy)"
      ],
      "execution_count": null,
      "outputs": [
        {
          "output_type": "stream",
          "name": "stdout",
          "text": [
            "FOLD :  1\n",
            "{1, 2, 3}\n",
            "Correctly Predicted :  114\n",
            "Total Test Samples :  122\n",
            "\n",
            "confusion Matrix= [[  0   4   0]\n",
            " [  0 114   0]\n",
            " [  0   4   0]]\n",
            "class_wise_accuracy_one= nan\n",
            "class_wise_accuracy_two= 0.9344262295081968\n",
            "class_wise_accuracy_three= nan\n",
            "precision for  1  class :  0.0\n",
            "precision for  2  class :  1.0\n",
            "precision for  3  class :  0.0\n",
            "\n",
            "recall for  1  class :  nan\n",
            "recall for  2  class :  0.9344262295081968\n",
            "recall for  3  class :  nan\n",
            "Accuracy : 93.44262295081967\n",
            "--------------\n",
            "FOLD :  2\n",
            "{1, 2, 3}\n",
            "Correctly Predicted :  107\n",
            "Total Test Samples :  121\n",
            "\n",
            "confusion Matrix= [[  0   6   0]\n",
            " [  0 107   0]\n",
            " [  0   8   0]]\n",
            "class_wise_accuracy_one= nan\n",
            "class_wise_accuracy_two= 0.8842975206611571\n",
            "class_wise_accuracy_three= nan\n",
            "precision for  1  class :  0.0\n",
            "precision for  2  class :  1.0\n",
            "precision for  3  class :  0.0\n",
            "\n",
            "recall for  1  class :  nan\n",
            "recall for  2  class :  0.8842975206611571\n",
            "recall for  3  class :  nan\n",
            "Accuracy : 88.4297520661157\n",
            "--------------\n",
            "FOLD :  3\n",
            "{1, 2, 3}\n",
            "Correctly Predicted :  107\n",
            "Total Test Samples :  121\n",
            "\n",
            "confusion Matrix= [[  0   3   0]\n",
            " [  0 107   0]\n",
            " [  0  11   0]]\n",
            "class_wise_accuracy_one= nan\n",
            "class_wise_accuracy_two= 0.8842975206611571\n",
            "class_wise_accuracy_three= nan\n",
            "precision for  1  class :  0.0\n",
            "precision for  2  class :  1.0\n",
            "precision for  3  class :  0.0\n",
            "\n",
            "recall for  1  class :  nan\n",
            "recall for  2  class :  0.8842975206611571\n",
            "recall for  3  class :  nan\n",
            "Accuracy : 88.4297520661157\n",
            "--------------\n",
            "FOLD :  4\n",
            "{1, 2, 3}\n",
            "Correctly Predicted :  112\n",
            "Total Test Samples :  121\n",
            "\n",
            "confusion Matrix= [[  0   2   0]\n",
            " [  0 112   0]\n",
            " [  0   7   0]]\n",
            "class_wise_accuracy_one= nan\n",
            "class_wise_accuracy_two= 0.9256198347107438\n",
            "class_wise_accuracy_three= nan\n",
            "precision for  1  class :  0.0\n",
            "precision for  2  class :  1.0\n",
            "precision for  3  class :  0.0\n",
            "\n",
            "recall for  1  class :  nan\n",
            "recall for  2  class :  0.9256198347107438\n",
            "recall for  3  class :  nan\n",
            "Accuracy : 92.56198347107438\n",
            "--------------\n",
            "FOLD :  5\n",
            "{1, 2, 3}\n",
            "Correctly Predicted :  105\n",
            "Total Test Samples :  121\n",
            "\n",
            "confusion Matrix= [[  0   7   0]\n",
            " [  0 105   0]\n",
            " [  0   9   0]]\n",
            "class_wise_accuracy_one= nan\n",
            "class_wise_accuracy_two= 0.8677685950413223\n",
            "class_wise_accuracy_three= nan\n",
            "precision for  1  class :  0.0\n",
            "precision for  2  class :  1.0\n",
            "precision for  3  class :  0.0\n",
            "\n",
            "recall for  1  class :  nan\n",
            "recall for  2  class :  0.8677685950413223\n",
            "recall for  3  class :  nan\n",
            "Accuracy : 86.77685950413223\n",
            "--------------\n",
            "AVG Accuracy :  89.92819401165153\n"
          ]
        }
      ]
    },
    {
      "cell_type": "code",
      "metadata": {
        "colab": {
          "base_uri": "https://localhost:8080/",
          "height": 367
        },
        "id": "8Jy5zo7-yrBJ",
        "outputId": "acc4f117-196b-422d-e20e-2a4197a88414"
      },
      "source": [
        "Folds = list([1,2,3,4,5])\n",
        "values = list([93.44262295081967,88.4297520661157,88.4297520661157,92.56198347107438,89.92819401165153])\n",
        "print(\"values=\",values)\n",
        "fig = plt.figure(figsize = (10, 5))\n",
        "\n",
        "plt.bar(Folds, values, color ='green',width = 0.4)\n",
        "\n",
        "plt.xlabel(\"Fold Number\")\n",
        "plt.ylabel(\"Accuracy Percentage\")\n",
        "plt.title(\"Fold Wise Accuracy\")\n",
        "plt.show()"
      ],
      "execution_count": null,
      "outputs": [
        {
          "output_type": "stream",
          "name": "stdout",
          "text": [
            "values= [93.44262295081967, 88.4297520661157, 88.4297520661157, 92.56198347107438, 89.92819401165153]\n"
          ]
        },
        {
          "output_type": "display_data",
          "data": {
            "image/png": "[encoded data removed]",
            "text/plain": [
              "<Figure size 720x360 with 1 Axes>"
            ]
          },
          "metadata": {
            "needs_background": "light"
          }
        }
      ]
    },
    {
      "cell_type": "code",
      "metadata": {
        "colab": {
          "base_uri": "https://localhost:8080/"
        },
        "id": "4ZEKlpT9Abon",
        "outputId": "200233ba-5c10-4812-dab6-4fd1543a13ea"
      },
      "source": [
        "########################################SLP################################################\n",
        "from sklearn.neural_network import MLPClassifier\n",
        "from sklearn.model_selection import train_test_split\n",
        "from sklearn.model_selection import cross_val_score\n",
        "from sklearn.linear_model import Perceptron\n",
        "slp=Perceptron(penalty='l1',alpha=0.01)\n",
        "slp.fit(X_train, y_train)\n",
        "#X_train,X_test,y_train,y_test=train_test_split(X,y,test_size=0.5,random_state=0)\n",
        "\n",
        "#print(X_test)\n",
        "y_pred=slp.predict(X_test)\n",
        "#print(len(y_test))\n",
        "#print(len(y_pred))\n",
        "#print(y_pred)\n",
        "print(\"accurary by using SLP=\",slp.score(X_test,y_test)*100)\n",
        "\n",
        "\n",
        "from sklearn import metrics\n",
        "cnf_matrix = metrics.confusion_matrix(y_test, y_pred)\n",
        "print(\"cnf_matrix=\",cnf_matrix)\n",
        "class_accuracy_one = 0\n",
        "s = 0\n",
        "for i in range(len(cnf_matrix)) : \n",
        "    s+=cnf_matrix[i][0]\n",
        "class_wise_accuracy_one = cnf_matrix[0][0]/s\n",
        "\n",
        "print(\"class_wise_accuracy_one=\",class_wise_accuracy_one)\n",
        "\n",
        "class_accuracy_two = 0\n",
        "s = 0\n",
        "for i in range(len(cnf_matrix)) : \n",
        "    s+=cnf_matrix[i][1]\n",
        "class_wise_accuracy_two = cnf_matrix[1][1]/s\n",
        "\n",
        "print(\"class_wise_accuracy_two=\",class_wise_accuracy_two)\n",
        "\n",
        "class_accuracy_three = 0\n",
        "s = 0\n",
        "for i in range(len(cnf_matrix)) : \n",
        "    s+=cnf_matrix[i][2]\n",
        "class_wise_accuracy_three = cnf_matrix[2][2]/s\n",
        "\n",
        "print(\"class_wise_accuracy_three=\",class_wise_accuracy_three)\n",
        "for i in range(len(cnf_matrix)):\n",
        "      print('precision for ',i+1,' class : ',cnf_matrix[i][i]/(np.sum(cnf_matrix[i])))\n",
        "print()\n",
        "  \n",
        "colWiseSum_ConfusionMatrix = np.sum(cnf_matrix,axis=0)\n",
        "for i in range(len(colWiseSum_ConfusionMatrix)):\n",
        "    print('recall for ',i+1,' class : ',cnf_matrix[i][i]/(colWiseSum_ConfusionMatrix[i]))\n",
        "\n",
        "#######################################################################################SLP###############################################\n",
        "\n",
        "\n",
        "\n",
        "# training and testing the model by using the Multi layer perceptron using ANN\n",
        "\n",
        "from sklearn.neural_network import MLPClassifier\n",
        "MLPclassifier = MLPClassifier(max_iter=1000,hidden_layer_sizes=(500,1000))\n",
        "\n",
        "MLPclassifier.fit(X_train,y_train)\n",
        "y_pred=MLPclassifier.predict(X_test)\n",
        "#print(len(y_test))\n",
        "#print(len(y_pred))\n",
        "#print(y_pred)\n",
        "print(\"accurary for mlp=\",MLPclassifier.score(X_test,y_test)*100)\n",
        "\n",
        "from sklearn import metrics\n",
        "cnf_matrix = metrics.confusion_matrix(y_test, y_pred)\n",
        "print(\"cnf_matrix=\",cnf_matrix)\n",
        "\n",
        "class_wise_accuracy_one = 0\n",
        "s = 0\n",
        "for i in range(len(cnf_matrix)) : \n",
        "  s+=cnf_matrix[i][0]\n",
        "class_wise_accuracy_one = cnf_matrix[0][0]/s\n",
        "\n",
        "print(\"class_wise_accuracy_one=\",class_wise_accuracy_one*100)\n",
        "\n",
        "class_wise_accuracy_two = 0\n",
        "s = 0\n",
        "for i in range(len(cnf_matrix)) : \n",
        "  s+=cnf_matrix[i][1]\n",
        "class_wise_accuracy_two = cnf_matrix[1][1]/s\n",
        "\n",
        "print(\"class_wise_accuracy_two=\",class_wise_accuracy_two*100)\n",
        "\n",
        "class_wise_accuracy_three = 0\n",
        "s = 0\n",
        "for i in range(len(cnf_matrix)) : \n",
        "  s+=cnf_matrix[i][2]\n",
        "class_wise_accuracy_three = cnf_matrix[2][2]/s\n",
        "\n",
        "print(\"class_wise_accuracy_three=\",class_wise_accuracy_three*100)\n",
        "\n",
        "\n",
        "\n",
        "for i in range(len(cnf_matrix)):\n",
        "      print('precision for ',i+1,' class : ',cnf_matrix[i][i]/(np.sum(cnf_matrix[i])))\n",
        "\n",
        "print()\n",
        "  \n",
        "colWiseSum_ConfusionMatrix = np.sum(cnf_matrix,axis=0)\n",
        "for i in range(len(colWiseSum_ConfusionMatrix)):\n",
        "    print('recall for ',i+1,' class : ',cnf_matrix[i][i]/(colWiseSum_ConfusionMatrix[i]))"
      ],
      "execution_count": null,
      "outputs": [
        {
          "output_type": "stream",
          "name": "stdout",
          "text": [
            "accurary by using SLP= 90.0990099009901\n",
            "cnf_matrix= [[  0  12   0]\n",
            " [  0 273   0]\n",
            " [  0  18   0]]\n",
            "class_wise_accuracy_one= nan\n",
            "class_wise_accuracy_two= 0.900990099009901\n",
            "class_wise_accuracy_three= nan\n",
            "precision for  1  class :  0.0\n",
            "precision for  2  class :  1.0\n",
            "precision for  3  class :  0.0\n",
            "\n",
            "recall for  1  class :  nan\n",
            "recall for  2  class :  0.900990099009901\n",
            "recall for  3  class :  nan\n",
            "accurary for mlp= 93.72937293729373\n",
            "cnf_matrix= [[  9   3   0]\n",
            " [  2 271   0]\n",
            " [  0  14   4]]\n",
            "class_wise_accuracy_one= 81.81818181818183\n",
            "class_wise_accuracy_two= 94.09722222222221\n",
            "class_wise_accuracy_three= 100.0\n",
            "precision for  1  class :  0.75\n",
            "precision for  2  class :  0.9926739926739927\n",
            "precision for  3  class :  0.2222222222222222\n",
            "\n",
            "recall for  1  class :  0.8181818181818182\n",
            "recall for  2  class :  0.9409722222222222\n",
            "recall for  3  class :  1.0\n"
          ]
        }
      ]
    },
    {
      "cell_type": "code",
      "metadata": {
        "colab": {
          "base_uri": "https://localhost:8080/"
        },
        "id": "LhONACet5vUM",
        "outputId": "8e79d0be-b963-4049-e0e8-80412aafbd5f"
      },
      "source": [
        "from sklearn.model_selection import KFold\n",
        "\n",
        "kf = KFold(n_splits=5)\n",
        "kf\n",
        "avgAccuracy = 0\n",
        "foldNum = 1\n",
        "val=[]\n",
        "for train_index, test_index in kf.split(np.array(df.values)):\n",
        "\n",
        "  \n",
        "\n",
        "  trainDf = df.iloc[train_index]\n",
        "  testDf = df.iloc[test_index]\n",
        "  print('FOLD : ',foldNum)\n",
        "\n",
        "  a = np.array(trainDf.values)\n",
        "  X_train=a[:,:-1]\n",
        "  y_train=a[:,-1]\n",
        "  #print(\"size=\",X_train.shape)\n",
        "  #print(\"size =\",y_train.shape)\n",
        "  MLPclassifier = MLPClassifier(max_iter=1000,hidden_layer_sizes=(500,1000))\n",
        "  MLPclassifier.fit(X_train,y_train)\n",
        "  a = np.array(testDf.values)\n",
        "\n",
        "  X_test=a[:,:-1]\n",
        "  y_test=a[:,-1]\n",
        "  #print(\"size of test=\",X_test.shape)\n",
        "  y_predicted = MLPclassifier.predict(X_test)\n",
        "  #print(\"y_pred= \",y_predicted)\n",
        "  #print(\"y_test=\",y_test)\n",
        "  print(\"accuracy=\",MLPclassifier.score(X_test,y_test)*100)\n",
        "  val.append(MLPclassifier.score(X_test,y_test)*100)\n",
        "  avgAccuracy+= MLPclassifier.score(X_test,y_test)\n",
        "\n",
        "  print('*****************')\n",
        "\n",
        "\n",
        "  foldNum+= 1\n",
        "  df = df.sample(frac = 1)\n",
        "\n",
        "avgAccuracy /= 5\n",
        "\n",
        "print('AVG Accuracy : ',avgAccuracy*100)"
      ],
      "execution_count": null,
      "outputs": [
        {
          "output_type": "stream",
          "name": "stdout",
          "text": [
            "FOLD :  1\n",
            "accuracy= 94.26229508196722\n",
            "*****************\n",
            "FOLD :  2\n",
            "accuracy= 92.56198347107438\n",
            "*****************\n",
            "FOLD :  3\n",
            "accuracy= 94.21487603305785\n",
            "*****************\n",
            "FOLD :  4\n",
            "accuracy= 93.38842975206612\n",
            "*****************\n",
            "FOLD :  5\n",
            "accuracy= 92.56198347107438\n",
            "*****************\n",
            "AVG Accuracy :  93.39791356184801\n"
          ]
        }
      ]
    },
    {
      "cell_type": "code",
      "metadata": {
        "colab": {
          "base_uri": "https://localhost:8080/",
          "height": 279
        },
        "id": "YFd6JlBo2_Ve",
        "outputId": "0a56512d-c4a9-4d4b-b3b0-306c12cc949e"
      },
      "source": [
        "from sklearn.metrics import plot_confusion_matrix\n",
        "\n",
        "plot_confusion_matrix(MLPclassifier, X_test, y_test)\n",
        "plt.show()"
      ],
      "execution_count": null,
      "outputs": [
        {
          "output_type": "display_data",
          "data": {
            "image/png": "[encoded data removed]",
            "text/plain": [
              "<Figure size 432x288 with 2 Axes>"
            ]
          },
          "metadata": {
            "needs_background": "light"
          }
        }
      ]
    },
    {
      "cell_type": "code",
      "metadata": {
        "colab": {
          "base_uri": "https://localhost:8080/",
          "height": 367
        },
        "id": "Fla4HOYu0Mgh",
        "outputId": "93b06619-b650-4acb-fa31-13b8a4aee1c4"
      },
      "source": [
        "classes = list([1,2,3])\n",
        "values = list([class_wise_accuracy_one,class_wise_accuracy_two,class_wise_accuracy_three])\n",
        "print(\"values=\",values)\n",
        "fig = plt.figure(figsize = (10, 5))\n",
        "\n",
        "plt.bar(classes, values, color ='blue',width = 0.4)\n",
        "\n",
        "plt.xlabel(\"Classes\")\n",
        "plt.ylabel(\"Accuracy Percentage\")\n",
        "plt.title(\"Class Wise Accuracy\")\n",
        "plt.show()"
      ],
      "execution_count": null,
      "outputs": [
        {
          "output_type": "stream",
          "name": "stdout",
          "text": [
            "values= [0.8, 0.928082191780822, 1.0]\n"
          ]
        },
        {
          "output_type": "display_data",
          "data": {
            "image/png": "[encoded data removed]",
            "text/plain": [
              "<Figure size 720x360 with 1 Axes>"
            ]
          },
          "metadata": {
            "needs_background": "light"
          }
        }
      ]
    },
    {
      "cell_type": "code",
      "metadata": {
        "colab": {
          "base_uri": "https://localhost:8080/",
          "height": 367
        },
        "id": "4maX3vbgqGMR",
        "outputId": "ef0927d8-a691-4fc4-e3a6-f1c36e6b402a"
      },
      "source": [
        "classes = list([1,2,3])\n",
        "values = list([0.3333333333333333,0.9963369963369964,0.2777777777777778])\n",
        "print(\"values=\",values)\n",
        "fig = plt.figure(figsize = (10, 5))\n",
        "\n",
        "plt.bar(classes, values, color ='blue',width = 0.4)\n",
        "\n",
        "plt.xlabel(\"Classes\")\n",
        "plt.ylabel(\"Precision Value\")\n",
        "plt.title(\"Class Wise Precision For MLP\")\n",
        "plt.show()"
      ],
      "execution_count": null,
      "outputs": [
        {
          "output_type": "stream",
          "name": "stdout",
          "text": [
            "values= [0.3333333333333333, 0.9963369963369964, 0.2777777777777778]\n"
          ]
        },
        {
          "output_type": "display_data",
          "data": {
            "image/png": "[encoded data removed]",
            "text/plain": [
              "<Figure size 720x360 with 1 Axes>"
            ]
          },
          "metadata": {
            "needs_background": "light"
          }
        }
      ]
    },
    {
      "cell_type": "code",
      "metadata": {
        "colab": {
          "base_uri": "https://localhost:8080/",
          "height": 367
        },
        "id": "ezqFvUyMqMW6",
        "outputId": "4e034c1f-d594-4a59-ae71-abdc3535e16a"
      },
      "source": [
        "classes = list([1,2,3])\n",
        "values = list([1.0,0.9283276450511946,0.8333333333333334])\n",
        "print(\"values=\",values)\n",
        "fig = plt.figure(figsize = (10, 5))\n",
        "\n",
        "plt.bar(classes, values, color ='blue',width = 0.4)\n",
        "\n",
        "plt.xlabel(\"Classes\")\n",
        "plt.ylabel(\"Recall Values\")\n",
        "plt.title(\"Class Wise Recall for MLP\")\n",
        "plt.show()"
      ],
      "execution_count": null,
      "outputs": [
        {
          "output_type": "stream",
          "name": "stdout",
          "text": [
            "values= [1.0, 0.9283276450511946, 0.8333333333333334]\n"
          ]
        },
        {
          "output_type": "display_data",
          "data": {
            "image/png": "[encoded data removed]",
            "text/plain": [
              "<Figure size 720x360 with 1 Axes>"
            ]
          },
          "metadata": {
            "needs_background": "light"
          }
        }
      ]
    },
    {
      "cell_type": "code",
      "metadata": {
        "colab": {
          "base_uri": "https://localhost:8080/",
          "height": 368
        },
        "id": "0MOMKiehgGNQ",
        "outputId": "09f562c4-0a68-4064-b929-fafb1c398c2e"
      },
      "source": [
        "#plot_learning_curve(estimator1, estimator2, estimator3, estimator4, estimator5, estimator6, X, y, ylim=None, cv=None,\n",
        " #                       n_jobs=1, train_sizes=np.linspace(.1, 1.0, 5)):\n",
        "from sklearn.model_selection import ShuffleSplit\n",
        "from sklearn.model_selection import learning_curve\n",
        "ylim=None \n",
        "#f, ((ax1) = plt.subplots(3,2, figsize=(30,25), sharey=True)\n",
        "f, (ax1)= plt.subplots(1,figsize=(10,5), sharey=True)\n",
        "if ylim is not None:\n",
        "        plt.ylim(*ylim)\n",
        "# First Estimator\n",
        "cv=None\n",
        "n_jobs=1\n",
        "train_sizes=np.linspace(.1, 1.0, 5)\n",
        "train_sizes, train_scores, test_scores = learning_curve(\n",
        "        MLPclassifier, X, b, cv=cv, n_jobs=n_jobs, train_sizes=train_sizes)\n",
        "train_scores_mean = np.mean(train_scores, axis=1)\n",
        "train_scores_std = np.std(train_scores, axis=1)\n",
        "test_scores_mean = np.mean(test_scores, axis=1)\n",
        "test_scores_std = np.std(test_scores, axis=1)\n",
        "ax1.fill_between(train_sizes, train_scores_mean - train_scores_std,\n",
        "                     train_scores_mean + train_scores_std, alpha=0.1,\n",
        "                     color=\"#ff9124\")\n",
        "ax1.fill_between(train_sizes, test_scores_mean - test_scores_std,\n",
        "                     test_scores_mean + test_scores_std, alpha=0.1, color=\"#2492ff\")\n",
        "ax1.plot(train_sizes, train_scores_mean, 'o-', color=\"#ff9124\",\n",
        "             label=\"Training score\")\n",
        "ax1.plot(train_sizes, test_scores_mean, 'o-', color=\"#2492ff\",\n",
        "             label=\"Cross-validation score\")\n",
        "ax1.set_title(\"MLP Learning Curve\", fontsize=14)\n",
        "ax1.set_xlabel('Training size (m)')\n",
        "ax1.set_ylabel('Score')\n",
        "ax1.grid(True)\n",
        "ax1.legend(loc=\"best\")\n",
        "    "
      ],
      "execution_count": null,
      "outputs": [
        {
          "output_type": "execute_result",
          "data": {
            "text/plain": [
              "<matplotlib.legend.Legend at 0x7f8b778d9cd0>"
            ]
          },
          "metadata": {},
          "execution_count": 94
        },
        {
          "output_type": "display_data",
          "data": {
            "image/png": "[encoded data removed]",
            "text/plain": [
              "<Figure size 720x360 with 1 Axes>"
            ]
          },
          "metadata": {
            "needs_background": "light"
          }
        }
      ]
    },
    {
      "cell_type": "code",
      "metadata": {
        "colab": {
          "base_uri": "https://localhost:8080/",
          "height": 368
        },
        "id": "j9LtNNvidW-5",
        "outputId": "26c87c73-2524-48fe-cf6c-b4021e12ce22"
      },
      "source": [
        "from sklearn.model_selection import ShuffleSplit\n",
        "from sklearn.model_selection import learning_curve\n",
        "ylim=None \n",
        "#f, ((ax1) = plt.subplots(3,2, figsize=(30,25), sharey=True)\n",
        "f, (ax2)= plt.subplots(1,figsize=(10,5), sharey=True)\n",
        "if ylim is not None:\n",
        "        plt.ylim(*ylim)\n",
        "# First Estimator\n",
        "cv=None\n",
        "n_jobs=1\n",
        "train_sizes=np.linspace(.1, 1.0, 5)\n",
        "train_sizes, train_scores, test_scores = learning_curve(\n",
        "        logistic, X, b, cv=cv, n_jobs=n_jobs, train_sizes=train_sizes)\n",
        "train_scores_mean = np.mean(train_scores, axis=1)\n",
        "train_scores_std = np.std(train_scores, axis=1)\n",
        "test_scores_mean = np.mean(test_scores, axis=1)\n",
        "test_scores_std = np.std(test_scores, axis=1)\n",
        "ax2.fill_between(train_sizes, train_scores_mean - train_scores_std,\n",
        "                     train_scores_mean + train_scores_std, alpha=0.1,\n",
        "                     color=\"#ff9124\")\n",
        "ax2.fill_between(train_sizes, test_scores_mean - test_scores_std,\n",
        "                     test_scores_mean + test_scores_std, alpha=0.1, color=\"#2492ff\")\n",
        "ax2.plot(train_sizes, train_scores_mean, 'o-', color=\"#ff9124\",\n",
        "             label=\"Training score\")\n",
        "ax2.plot(train_sizes, test_scores_mean, 'o-', color=\"#2492ff\",\n",
        "             label=\"Cross-validation score\")\n",
        "ax2.set_title(\"Logistic Learning Curve\", fontsize=14)\n",
        "ax2.set_xlabel('Training size (m)')\n",
        "ax2.set_ylabel('Score')\n",
        "ax2.grid(True)\n",
        "ax2.legend(loc=\"best\")\n",
        "    "
      ],
      "execution_count": null,
      "outputs": [
        {
          "output_type": "execute_result",
          "data": {
            "text/plain": [
              "<matplotlib.legend.Legend at 0x7fc2a5aea210>"
            ]
          },
          "metadata": {},
          "execution_count": 62
        },
        {
          "output_type": "display_data",
          "data": {
            "image/png": "[encoded data removed]",
            "text/plain": [
              "<Figure size 720x360 with 1 Axes>"
            ]
          },
          "metadata": {
            "needs_background": "light"
          }
        }
      ]
    },
    {
      "cell_type": "code",
      "metadata": {
        "colab": {
          "base_uri": "https://localhost:8080/"
        },
        "id": "sKpn0OA5mP9p",
        "outputId": "2a4f8dc1-c427-4c5d-9625-6c5395eb4b0b"
      },
      "source": [
        "from sklearn.model_selection import cross_val_score\n",
        "from sklearn.linear_model import Perceptron\n",
        "slp=Perceptron(penalty='l1')\n",
        "slp.fit(X_train, y_train)\n",
        "training_score = cross_val_score(slp, X_test, y_test, cv=7)\n",
        "print(slp.score(X_test,y_test))\n",
        "print(training_score.mean())"
      ],
      "execution_count": null,
      "outputs": [
        {
          "output_type": "stream",
          "name": "stdout",
          "text": [
            "0.900990099009901\n",
            "0.8944427665357898\n"
          ]
        }
      ]
    }
  ]
}